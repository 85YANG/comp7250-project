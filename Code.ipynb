{
  "nbformat": 4,
  "nbformat_minor": 0,
  "metadata": {
    "colab": {
      "provenance": []
    },
    "kernelspec": {
      "name": "python3",
      "display_name": "Python 3"
    },
    "language_info": {
      "name": "python"
    }
  },
  "cells": [
    {
      "cell_type": "markdown",
      "source": [
        "Task1\n",
        "MNIST dataset "
      ],
      "metadata": {
        "id": "MFzKn8RaX5VZ"
      }
    },
    {
      "cell_type": "code",
      "execution_count": null,
      "metadata": {
        "colab": {
          "base_uri": "https://localhost:8080/"
        },
        "id": "rQ39BS0N-WOl",
        "outputId": "0c12f822-bf68-4484-d248-09e3d4aaa87f"
      },
      "outputs": [
        {
          "output_type": "stream",
          "name": "stdout",
          "text": [
            "Downloading data from https://storage.googleapis.com/tensorflow/tf-keras-datasets/mnist.npz\n",
            "11490434/11490434 [==============================] - 0s 0us/step\n",
            "(60000, 28, 28) (10000, 28, 28)\n"
          ]
        }
      ],
      "source": [
        "# download the dataset\n",
        "from keras.datasets import mnist\n",
        "from tensorflow.keras.utils import to_categorical\n",
        "(train_images, train_labels),(test_images, test_labels)=mnist.load_data()\n",
        "\n",
        "print(train_images.shape,test_images.shape)"
      ]
    },
    {
      "cell_type": "code",
      "source": [
        "# data preprocess\n",
        "# transform the data type and labels\n",
        "train_images = train_images.astype('float32')/255\n",
        "test_images = test_images.astype('float32')/255\n",
        "\n",
        "train_labels = to_categorical(train_labels)\n",
        "test_labels = to_categorical(test_labels)"
      ],
      "metadata": {
        "id": "zx89vqd4Auf4"
      },
      "execution_count": null,
      "outputs": []
    },
    {
      "cell_type": "code",
      "source": [
        "# construct the network model\n",
        "from keras import models,layers\n",
        "# model1\n",
        "model = models.Sequential()\n",
        "# The first later needs to point out input shape\n",
        "model.add(layers.Conv2D(32, (3, 3), activation='relu', input_shape=(28,28,1)))\n",
        "model.add(layers.MaxPooling2D((2, 2)))\n",
        "model.add(layers.Dropout(0.25))\n",
        "model.add(layers.Conv2D(64, (3, 3), activation='relu'))\n",
        "model.add(layers.MaxPooling2D((2, 2)))\n",
        "model.add(layers.Flatten())\n",
        "model.add(layers.Dense(64, activation='relu'))\n",
        "model.add(layers.Dropout(0.5))\n",
        "model.add(layers.Dense(10, activation='softmax'))\n",
        "\n",
        " "
      ],
      "metadata": {
        "id": "v-wNgIfmBzLc"
      },
      "execution_count": null,
      "outputs": []
    },
    {
      "cell_type": "code",
      "source": [
        "model2 = model # model2\n",
        "model3 = model # model3\n",
        "model4 = model # model4\n",
        "print(model2.summary())"
      ],
      "metadata": {
        "colab": {
          "base_uri": "https://localhost:8080/"
        },
        "id": "zjzhwkdU28Nv",
        "outputId": "1a935cf8-1a7f-427e-d8eb-b9ffb1b485d1"
      },
      "execution_count": null,
      "outputs": [
        {
          "output_type": "stream",
          "name": "stdout",
          "text": [
            "Model: \"sequential\"\n",
            "_________________________________________________________________\n",
            " Layer (type)                Output Shape              Param #   \n",
            "=================================================================\n",
            " conv2d (Conv2D)             (None, 26, 26, 32)        320       \n",
            "                                                                 \n",
            " max_pooling2d (MaxPooling2D  (None, 13, 13, 32)       0         \n",
            " )                                                               \n",
            "                                                                 \n",
            " dropout (Dropout)           (None, 13, 13, 32)        0         \n",
            "                                                                 \n",
            " conv2d_1 (Conv2D)           (None, 11, 11, 64)        18496     \n",
            "                                                                 \n",
            " max_pooling2d_1 (MaxPooling  (None, 5, 5, 64)         0         \n",
            " 2D)                                                             \n",
            "                                                                 \n",
            " flatten (Flatten)           (None, 1600)              0         \n",
            "                                                                 \n",
            " dense (Dense)               (None, 64)                102464    \n",
            "                                                                 \n",
            " dropout_1 (Dropout)         (None, 64)                0         \n",
            "                                                                 \n",
            " dense_1 (Dense)             (None, 10)                650       \n",
            "                                                                 \n",
            "=================================================================\n",
            "Total params: 121,930\n",
            "Trainable params: 121,930\n",
            "Non-trainable params: 0\n",
            "_________________________________________________________________\n",
            "None\n"
          ]
        }
      ]
    },
    {
      "cell_type": "code",
      "source": [
        "# Check parameters. There are about 121 thousands parameters.\n",
        "print(model.summary())"
      ],
      "metadata": {
        "colab": {
          "base_uri": "https://localhost:8080/"
        },
        "id": "NZjjOSSnbr86",
        "outputId": "ff056079-5ffe-4b65-8f24-62d0df5f4412"
      },
      "execution_count": null,
      "outputs": [
        {
          "output_type": "stream",
          "name": "stdout",
          "text": [
            "Model: \"sequential\"\n",
            "_________________________________________________________________\n",
            " Layer (type)                Output Shape              Param #   \n",
            "=================================================================\n",
            " conv2d (Conv2D)             (None, 26, 26, 32)        320       \n",
            "                                                                 \n",
            " max_pooling2d (MaxPooling2D  (None, 13, 13, 32)       0         \n",
            " )                                                               \n",
            "                                                                 \n",
            " dropout (Dropout)           (None, 13, 13, 32)        0         \n",
            "                                                                 \n",
            " conv2d_1 (Conv2D)           (None, 11, 11, 64)        18496     \n",
            "                                                                 \n",
            " max_pooling2d_1 (MaxPooling  (None, 5, 5, 64)         0         \n",
            " 2D)                                                             \n",
            "                                                                 \n",
            " flatten (Flatten)           (None, 1600)              0         \n",
            "                                                                 \n",
            " dense (Dense)               (None, 64)                102464    \n",
            "                                                                 \n",
            " dropout_1 (Dropout)         (None, 64)                0         \n",
            "                                                                 \n",
            " dense_1 (Dense)             (None, 10)                650       \n",
            "                                                                 \n",
            "=================================================================\n",
            "Total params: 121,930\n",
            "Trainable params: 121,930\n",
            "Non-trainable params: 0\n",
            "_________________________________________________________________\n",
            "None\n"
          ]
        }
      ]
    },
    {
      "cell_type": "code",
      "source": [
        "# compile\n",
        "model.compile(optimizer = 'sgd',\n",
        "       loss = 'categorical_crossentropy',\n",
        "       metrics = ['accuracy'])\n",
        "\n",
        "model2.compile(optimizer = 'adam',\n",
        "       loss = 'categorical_crossentropy',\n",
        "       metrics = ['accuracy'])\n",
        "\n",
        "model3.compile(optimizer = 'rmsprop',\n",
        "       loss = 'categorical_crossentropy',\n",
        "       metrics = ['accuracy'])\n",
        "\n",
        "model4.compile(optimizer = 'nadam',\n",
        "       loss = 'categorical_crossentropy',\n",
        "       metrics = ['accuracy'])"
      ],
      "metadata": {
        "id": "ITWVPin9CK_w"
      },
      "execution_count": null,
      "outputs": []
    },
    {
      "cell_type": "code",
      "source": [
        "# train the model\n",
        "hist = model.fit(train_images, train_labels, epochs=10, batch_size=128)\n",
        "print('-----------------------------------------------------------------------------')\n",
        "hist2 = model2.fit(train_images, train_labels, epochs=10, batch_size=128)\n",
        "print('-----------------------------------------------------------------------------')\n",
        "hist3 = model3.fit(train_images, train_labels, epochs=10, batch_size=128)\n",
        "print('-----------------------------------------------------------------------------')\n",
        "hist4 = model4.fit(train_images, train_labels, epochs=10, batch_size=128)"
      ],
      "metadata": {
        "colab": {
          "base_uri": "https://localhost:8080/"
        },
        "id": "M_LtHl10CaPE",
        "outputId": "51b8f70d-7e6d-4d1a-df85-10fad91bffa6"
      },
      "execution_count": null,
      "outputs": [
        {
          "output_type": "stream",
          "name": "stdout",
          "text": [
            "Epoch 1/10\n",
            "469/469 [==============================] - 36s 73ms/step - loss: 0.4715 - accuracy: 0.8536\n",
            "Epoch 2/10\n",
            "469/469 [==============================] - 34s 73ms/step - loss: 0.1906 - accuracy: 0.9434\n",
            "Epoch 3/10\n",
            "469/469 [==============================] - 33s 71ms/step - loss: 0.1471 - accuracy: 0.9568\n",
            "Epoch 4/10\n",
            "469/469 [==============================] - 34s 73ms/step - loss: 0.1238 - accuracy: 0.9633\n",
            "Epoch 5/10\n",
            "469/469 [==============================] - 33s 69ms/step - loss: 0.1048 - accuracy: 0.9688\n",
            "Epoch 6/10\n",
            "469/469 [==============================] - 33s 71ms/step - loss: 0.0918 - accuracy: 0.9723\n",
            "Epoch 7/10\n",
            "469/469 [==============================] - 33s 71ms/step - loss: 0.0831 - accuracy: 0.9752\n",
            "Epoch 8/10\n",
            "469/469 [==============================] - 33s 71ms/step - loss: 0.0772 - accuracy: 0.9758\n",
            "Epoch 9/10\n",
            "469/469 [==============================] - 33s 71ms/step - loss: 0.0714 - accuracy: 0.9790\n",
            "Epoch 10/10\n",
            "469/469 [==============================] - 32s 69ms/step - loss: 0.0674 - accuracy: 0.9800\n",
            "-----------------------------------------------------------------------------\n",
            "Epoch 1/10\n",
            "469/469 [==============================] - 32s 69ms/step - loss: 0.0618 - accuracy: 0.9809\n",
            "Epoch 2/10\n",
            "469/469 [==============================] - 34s 72ms/step - loss: 0.0582 - accuracy: 0.9819\n",
            "Epoch 3/10\n",
            "469/469 [==============================] - 33s 71ms/step - loss: 0.0552 - accuracy: 0.9836\n",
            "Epoch 4/10\n",
            "469/469 [==============================] - 33s 70ms/step - loss: 0.0531 - accuracy: 0.9834\n",
            "Epoch 5/10\n",
            "469/469 [==============================] - 33s 71ms/step - loss: 0.0490 - accuracy: 0.9849\n",
            "Epoch 6/10\n",
            "469/469 [==============================] - 32s 69ms/step - loss: 0.0468 - accuracy: 0.9854\n",
            "Epoch 7/10\n",
            "469/469 [==============================] - 33s 71ms/step - loss: 0.0460 - accuracy: 0.9859\n",
            "Epoch 8/10\n",
            "469/469 [==============================] - 33s 71ms/step - loss: 0.0431 - accuracy: 0.9864\n",
            "Epoch 9/10\n",
            "469/469 [==============================] - 33s 71ms/step - loss: 0.0441 - accuracy: 0.9863\n",
            "Epoch 10/10\n",
            "469/469 [==============================] - 33s 71ms/step - loss: 0.0396 - accuracy: 0.9876\n",
            "-----------------------------------------------------------------------------\n",
            "Epoch 1/10\n",
            "469/469 [==============================] - 33s 71ms/step - loss: 0.0385 - accuracy: 0.9879\n",
            "Epoch 2/10\n",
            "469/469 [==============================] - 33s 71ms/step - loss: 0.0381 - accuracy: 0.9880\n",
            "Epoch 3/10\n",
            "469/469 [==============================] - 33s 71ms/step - loss: 0.0357 - accuracy: 0.9886\n",
            "Epoch 4/10\n",
            "469/469 [==============================] - 33s 69ms/step - loss: 0.0329 - accuracy: 0.9894\n",
            "Epoch 5/10\n",
            "469/469 [==============================] - 33s 71ms/step - loss: 0.0332 - accuracy: 0.9893\n",
            "Epoch 6/10\n",
            "469/469 [==============================] - 33s 71ms/step - loss: 0.0357 - accuracy: 0.9882\n",
            "Epoch 7/10\n",
            "469/469 [==============================] - 33s 71ms/step - loss: 0.0320 - accuracy: 0.9899\n",
            "Epoch 8/10\n",
            "469/469 [==============================] - 33s 70ms/step - loss: 0.0292 - accuracy: 0.9903\n",
            "Epoch 9/10\n",
            "469/469 [==============================] - 33s 71ms/step - loss: 0.0281 - accuracy: 0.9907\n",
            "Epoch 10/10\n",
            "469/469 [==============================] - 33s 71ms/step - loss: 0.0292 - accuracy: 0.9902\n",
            "-----------------------------------------------------------------------------\n",
            "Epoch 1/10\n",
            "469/469 [==============================] - 33s 71ms/step - loss: 0.0302 - accuracy: 0.9901\n",
            "Epoch 2/10\n",
            "469/469 [==============================] - 33s 71ms/step - loss: 0.0287 - accuracy: 0.9906\n",
            "Epoch 3/10\n",
            "469/469 [==============================] - 33s 71ms/step - loss: 0.0277 - accuracy: 0.9912\n",
            "Epoch 4/10\n",
            "469/469 [==============================] - 33s 69ms/step - loss: 0.0274 - accuracy: 0.9910\n",
            "Epoch 5/10\n",
            "469/469 [==============================] - 33s 71ms/step - loss: 0.0271 - accuracy: 0.9911\n",
            "Epoch 6/10\n",
            "469/469 [==============================] - 33s 71ms/step - loss: 0.0255 - accuracy: 0.9915\n",
            "Epoch 7/10\n",
            "469/469 [==============================] - 33s 71ms/step - loss: 0.0258 - accuracy: 0.9916\n",
            "Epoch 8/10\n",
            "469/469 [==============================] - 33s 71ms/step - loss: 0.0239 - accuracy: 0.9917\n",
            "Epoch 9/10\n",
            "469/469 [==============================] - 33s 71ms/step - loss: 0.0253 - accuracy: 0.9914\n",
            "Epoch 10/10\n",
            "469/469 [==============================] - 33s 71ms/step - loss: 0.0250 - accuracy: 0.9913\n"
          ]
        }
      ]
    },
    {
      "cell_type": "code",
      "source": [
        "# test \n",
        "test_loss,test_acc = model.evaluate(test_images, test_labels)\n",
        "print(test_loss)\n",
        "print(test_acc)\n",
        "\n",
        "test_loss2,test_acc2 = model2.evaluate(test_images, test_labels)\n",
        "print(test_loss)\n",
        "print(test_acc)\n",
        "\n",
        "test_loss3,test_acc3 = model3.evaluate(test_images, test_labels)\n",
        "print(test_loss)\n",
        "print(test_acc)\n",
        "\n",
        "test_loss4,test_acc4 = model4.evaluate(test_images, test_labels)\n",
        "print(test_loss)\n",
        "print(test_acc)"
      ],
      "metadata": {
        "colab": {
          "base_uri": "https://localhost:8080/"
        },
        "id": "lDr88_lTCcmN",
        "outputId": "d6743e5a-535b-4892-e88a-3c99a45cfaa3"
      },
      "execution_count": null,
      "outputs": [
        {
          "output_type": "stream",
          "name": "stdout",
          "text": [
            "313/313 [==============================] - 2s 6ms/step - loss: 0.0300 - accuracy: 0.9932\n",
            "0.03000229224562645\n",
            "0.9932000041007996\n",
            "313/313 [==============================] - 2s 6ms/step - loss: 0.0300 - accuracy: 0.9932\n",
            "0.03000229224562645\n",
            "0.9932000041007996\n",
            "313/313 [==============================] - 2s 7ms/step - loss: 0.0300 - accuracy: 0.9932\n",
            "0.03000229224562645\n",
            "0.9932000041007996\n",
            "313/313 [==============================] - 2s 6ms/step - loss: 0.0300 - accuracy: 0.9932\n",
            "0.03000229224562645\n",
            "0.9932000041007996\n"
          ]
        }
      ]
    },
    {
      "cell_type": "code",
      "source": [
        "# Visualization\n",
        "import matplotlib.pyplot as plt\n",
        "acc = hist.history['accuracy']\n",
        "loss = hist.history['loss']\n",
        "epochs = range(1, len(acc)+1)\n",
        "\n",
        "acc2 = hist2.history['accuracy']\n",
        "loss2 = hist2.history['loss']\n",
        "epochs2 = range(1, len(acc2)+1)\n",
        "\n",
        "acc3 = hist3.history['accuracy']\n",
        "loss3 = hist3.history['loss']\n",
        "epochs3 = range(1, len(acc3)+1)\n",
        "\n",
        "acc4 = hist4.history['accuracy']\n",
        "loss4 = hist4.history['loss']\n",
        "epochs4 = range(1, len(acc4)+1)\n",
        "plt.plot(epochs, acc, label='sgd accuracy')\n",
        "plt.plot(epochs2, acc2, label='adam accuracy')\n",
        "plt.plot(epochs3, acc3, label='rmsprop accuracy')\n",
        "plt.plot(epochs4, acc4, label='nadam accuracy')\n",
        "plt.title('Accuracy')\n",
        "plt.legend()\n",
        "plt.figure()\n",
        "\n",
        "plt.plot(epochs, loss, label='sgd loss function')\n",
        "plt.plot(epochs2, loss2, label='adam loss function')\n",
        "plt.plot(epochs3, loss3, label='rmsprop loss function')\n",
        "plt.plot(epochs4, loss4, label='nadam loss function')\n",
        "plt.title('Loss function')\n",
        "plt.legend()\n",
        "plt.figure()"
      ],
      "metadata": {
        "colab": {
          "base_uri": "https://localhost:8080/",
          "height": 581
        },
        "id": "3Tbz-ZfyzDLm",
        "outputId": "a4395cff-9989-467b-df65-bc65344d3e94"
      },
      "execution_count": null,
      "outputs": [
        {
          "output_type": "execute_result",
          "data": {
            "text/plain": [
              "<Figure size 432x288 with 0 Axes>"
            ]
          },
          "metadata": {},
          "execution_count": 10
        },
        {
          "output_type": "display_data",
          "data": {
            "text/plain": [
              "<Figure size 432x288 with 1 Axes>"
            ],
            "image/png": "[encoded data removed]"
          },
          "metadata": {
            "needs_background": "light"
          }
        },
        {
          "output_type": "display_data",
          "data": {
            "text/plain": [
              "<Figure size 432x288 with 1 Axes>"
            ],
            "image/png": "[encoded data removed]"
          },
          "metadata": {
            "needs_background": "light"
          }
        },
        {
          "output_type": "display_data",
          "data": {
            "text/plain": [
              "<Figure size 432x288 with 0 Axes>"
            ]
          },
          "metadata": {}
        }
      ]
    },
    {
      "cell_type": "markdown",
      "source": [
        "In these two graphs, the lines of different colors represent different optimizers. We can see that the accuracy of the Nadam optimizer is the highest and more stable, and the accuracy of the SGD optimizer is gradually increased, but it is not as good as the other three. And in the end, their accuracy is all greater than 96%. \n",
        "In addition, similarly, the loss function of SGD optimizer declines gradually and eventually becomes stable. The Adam and RMSprop optimizers’ are always stable around 0.04, while the Nadam optimizr is the one with the lowest loss function value, around 0.03."
      ],
      "metadata": {
        "id": "GH0zd9ulhy_v"
      }
    },
    {
      "cell_type": "markdown",
      "source": [
        "Task2\n",
        "CIFAR10 dataset"
      ],
      "metadata": {
        "id": "a3vkwgN6YDUZ"
      }
    },
    {
      "cell_type": "code",
      "source": [
        "# download and import\n",
        "from keras.datasets import cifar10\n",
        "(X_train, y_train), (X_test, y_test)=cifar10.load_data()\n",
        "print('data format:',X_train.shape)\n",
        "print('the number of dataset:',X_train.shape[0], X_test.shape[0])"
      ],
      "metadata": {
        "colab": {
          "base_uri": "https://localhost:8080/"
        },
        "id": "djp6UhLS6YFa",
        "outputId": "370f816a-e1bf-4ec4-efdf-a4b247a07b60"
      },
      "execution_count": null,
      "outputs": [
        {
          "output_type": "stream",
          "name": "stdout",
          "text": [
            "Downloading data from https://www.cs.toronto.edu/~kriz/cifar-10-python.tar.gz\n",
            "170498071/170498071 [==============================] - 5s 0us/step\n",
            "data format: (50000, 32, 32, 3)\n",
            "the number of dataset: 50000 10000\n"
          ]
        }
      ]
    },
    {
      "cell_type": "code",
      "source": [
        "# data preprocess\n",
        "from tensorflow.keras.utils import to_categorical\n",
        "X_train = X_train.astype('float32')/255\n",
        "X_test = X_test.astype('float32')/255\n",
        "y_train = to_categorical(y_train)\n",
        "y_test = to_categorical(y_test)"
      ],
      "metadata": {
        "id": "imbXI-JC6bqw"
      },
      "execution_count": null,
      "outputs": []
    },
    {
      "cell_type": "code",
      "source": [
        "# construct the model\n",
        "from keras import models,layers\n",
        "# new model1\n",
        "new_model = models.Sequential()\n",
        "# The first later needs to point out input shape\n",
        "new_model.add(layers.Conv2D(32, (3, 3), activation='relu', input_shape=X_train.shape[1:]))\n",
        "new_model.add(layers.MaxPooling2D((2, 2)))\n",
        "new_model.add(layers.Dropout(0.25))\n",
        "new_model.add(layers.Conv2D(64, (3, 3), activation='relu'))\n",
        "new_model.add(layers.MaxPooling2D((2, 2)))\n",
        "new_model.add(layers.Flatten())\n",
        "new_model.add(layers.Dense(64, activation='relu'))\n",
        "new_model.add(layers.Dropout(0.5))\n",
        "new_model.add(layers.Dense(10, activation='softmax'))\n",
        "\n",
        "model5 = new_model # new model2\n",
        "model6 = new_model # new model3\n",
        "model7 = new_model # new model4"
      ],
      "metadata": {
        "id": "AkTwcSMl6b6p"
      },
      "execution_count": null,
      "outputs": []
    },
    {
      "cell_type": "code",
      "source": [
        "# check parameters\n",
        "new_model.summary()"
      ],
      "metadata": {
        "colab": {
          "base_uri": "https://localhost:8080/"
        },
        "id": "coyAyPwkt2yK",
        "outputId": "7f05f8f2-c7e5-48eb-ec4d-719378a4f2c3"
      },
      "execution_count": null,
      "outputs": [
        {
          "output_type": "stream",
          "name": "stdout",
          "text": [
            "Model: \"sequential_2\"\n",
            "_________________________________________________________________\n",
            " Layer (type)                Output Shape              Param #   \n",
            "=================================================================\n",
            " conv2d_4 (Conv2D)           (None, 30, 30, 32)        896       \n",
            "                                                                 \n",
            " max_pooling2d_4 (MaxPooling  (None, 15, 15, 32)       0         \n",
            " 2D)                                                             \n",
            "                                                                 \n",
            " dropout_4 (Dropout)         (None, 15, 15, 32)        0         \n",
            "                                                                 \n",
            " conv2d_5 (Conv2D)           (None, 13, 13, 64)        18496     \n",
            "                                                                 \n",
            " max_pooling2d_5 (MaxPooling  (None, 6, 6, 64)         0         \n",
            " 2D)                                                             \n",
            "                                                                 \n",
            " flatten_2 (Flatten)         (None, 2304)              0         \n",
            "                                                                 \n",
            " dense_4 (Dense)             (None, 64)                147520    \n",
            "                                                                 \n",
            " dropout_5 (Dropout)         (None, 64)                0         \n",
            "                                                                 \n",
            " dense_5 (Dense)             (None, 10)                650       \n",
            "                                                                 \n",
            "=================================================================\n",
            "Total params: 167,562\n",
            "Trainable params: 167,562\n",
            "Non-trainable params: 0\n",
            "_________________________________________________________________\n"
          ]
        }
      ]
    },
    {
      "cell_type": "code",
      "source": [
        "# compile\n",
        "new_model.compile(optimizer = 'sgd',\n",
        "       loss = 'categorical_crossentropy',\n",
        "       metrics = ['accuracy'])\n",
        "model5.compile(optimizer = 'adam',\n",
        "       loss = 'categorical_crossentropy',\n",
        "       metrics = ['accuracy'])\n",
        "model6.compile(optimizer = 'rmsprop',\n",
        "       loss = 'categorical_crossentropy',\n",
        "       metrics = ['accuracy'])\n",
        "model7.compile(optimizer = 'nadam',\n",
        "       loss = 'categorical_crossentropy',\n",
        "       metrics = ['accuracy'])"
      ],
      "metadata": {
        "id": "1UwJDHLK6cFZ"
      },
      "execution_count": null,
      "outputs": []
    },
    {
      "cell_type": "code",
      "source": [
        "# Train. 'shuffle = True' means randomly shuffling the data of each epoch.\n",
        "new_hist = new_model.fit(X_train, y_train, epochs=10, batch_size=128, shuffle=True)\n",
        "print('-----------------------------------------------------------------------------')\n",
        "hist5 = model5.fit(X_train, y_train, epochs=10, batch_size=128, shuffle=True)\n",
        "print('-----------------------------------------------------------------------------')\n",
        "hist6 = model6.fit(X_train, y_train, epochs=10, batch_size=128, shuffle=True)\n",
        "print('-----------------------------------------------------------------------------')\n",
        "hist7 = model7.fit(X_train, y_train, epochs=10, batch_size=128, shuffle=True)"
      ],
      "metadata": {
        "colab": {
          "base_uri": "https://localhost:8080/"
        },
        "id": "7Sdevuty6cQA",
        "outputId": "8c8a6acc-1cd0-4f16-c18e-d65ede7100a3"
      },
      "execution_count": null,
      "outputs": [
        {
          "output_type": "stream",
          "name": "stdout",
          "text": [
            "Epoch 1/10\n",
            "391/391 [==============================] - 41s 104ms/step - loss: 1.5685 - accuracy: 0.4208\n",
            "Epoch 2/10\n",
            "391/391 [==============================] - 41s 106ms/step - loss: 1.4700 - accuracy: 0.4620\n",
            "Epoch 3/10\n",
            "391/391 [==============================] - 40s 103ms/step - loss: 1.3982 - accuracy: 0.4904\n",
            "Epoch 4/10\n",
            "391/391 [==============================] - 41s 104ms/step - loss: 1.3418 - accuracy: 0.5112\n",
            "Epoch 5/10\n",
            "391/391 [==============================] - 40s 103ms/step - loss: 1.3025 - accuracy: 0.5258\n",
            "Epoch 6/10\n",
            "391/391 [==============================] - 40s 103ms/step - loss: 1.2639 - accuracy: 0.5424\n",
            "Epoch 7/10\n",
            "391/391 [==============================] - 41s 105ms/step - loss: 1.2280 - accuracy: 0.5592\n",
            "Epoch 8/10\n",
            "391/391 [==============================] - 40s 103ms/step - loss: 1.1975 - accuracy: 0.5702\n",
            "Epoch 9/10\n",
            "391/391 [==============================] - 41s 104ms/step - loss: 1.1707 - accuracy: 0.5811\n",
            "Epoch 10/10\n",
            "391/391 [==============================] - 41s 104ms/step - loss: 1.1527 - accuracy: 0.5871\n",
            "-----------------------------------------------------------------------------\n",
            "Epoch 1/10\n",
            "391/391 [==============================] - 42s 108ms/step - loss: 1.1269 - accuracy: 0.5943\n",
            "Epoch 2/10\n",
            "391/391 [==============================] - 40s 102ms/step - loss: 1.1159 - accuracy: 0.5980\n",
            "Epoch 3/10\n",
            "391/391 [==============================] - 41s 106ms/step - loss: 1.0914 - accuracy: 0.6097\n",
            "Epoch 4/10\n",
            "391/391 [==============================] - 40s 103ms/step - loss: 1.0774 - accuracy: 0.6140\n",
            "Epoch 5/10\n",
            "391/391 [==============================] - 40s 102ms/step - loss: 1.0553 - accuracy: 0.6230\n",
            "Epoch 6/10\n",
            "391/391 [==============================] - 41s 104ms/step - loss: 1.0400 - accuracy: 0.6284\n",
            "Epoch 7/10\n",
            "391/391 [==============================] - 40s 102ms/step - loss: 1.0304 - accuracy: 0.6320\n",
            "Epoch 8/10\n",
            "391/391 [==============================] - 40s 102ms/step - loss: 1.0224 - accuracy: 0.6337\n",
            "Epoch 9/10\n",
            "391/391 [==============================] - 41s 104ms/step - loss: 1.0113 - accuracy: 0.6367\n",
            "Epoch 10/10\n",
            "391/391 [==============================] - 40s 102ms/step - loss: 0.9987 - accuracy: 0.6430\n",
            "-----------------------------------------------------------------------------\n",
            "Epoch 1/10\n",
            "391/391 [==============================] - 41s 104ms/step - loss: 0.9913 - accuracy: 0.6463\n",
            "Epoch 2/10\n",
            "391/391 [==============================] - 40s 102ms/step - loss: 0.9823 - accuracy: 0.6499\n",
            "Epoch 3/10\n",
            "391/391 [==============================] - 40s 102ms/step - loss: 0.9710 - accuracy: 0.6527\n",
            "Epoch 4/10\n",
            "391/391 [==============================] - 41s 104ms/step - loss: 0.9635 - accuracy: 0.6552\n",
            "Epoch 5/10\n",
            "391/391 [==============================] - 40s 102ms/step - loss: 0.9553 - accuracy: 0.6562\n",
            "Epoch 6/10\n",
            "391/391 [==============================] - 40s 103ms/step - loss: 0.9433 - accuracy: 0.6624\n",
            "Epoch 7/10\n",
            "391/391 [==============================] - 41s 104ms/step - loss: 0.9422 - accuracy: 0.6597\n",
            "Epoch 8/10\n",
            "391/391 [==============================] - 40s 102ms/step - loss: 0.9339 - accuracy: 0.6632\n",
            "Epoch 9/10\n",
            "391/391 [==============================] - 41s 104ms/step - loss: 0.9266 - accuracy: 0.6662\n",
            "Epoch 10/10\n",
            "391/391 [==============================] - 40s 102ms/step - loss: 0.9191 - accuracy: 0.6685\n",
            "-----------------------------------------------------------------------------\n",
            "Epoch 1/10\n",
            "391/391 [==============================] - 40s 102ms/step - loss: 0.9083 - accuracy: 0.6736\n",
            "Epoch 2/10\n",
            "391/391 [==============================] - 41s 104ms/step - loss: 0.9026 - accuracy: 0.6759\n",
            "Epoch 3/10\n",
            "391/391 [==============================] - 40s 103ms/step - loss: 0.9050 - accuracy: 0.6736\n",
            "Epoch 4/10\n",
            "391/391 [==============================] - 40s 102ms/step - loss: 0.8817 - accuracy: 0.6821\n",
            "Epoch 5/10\n",
            "391/391 [==============================] - 41s 104ms/step - loss: 0.8924 - accuracy: 0.6784\n",
            "Epoch 6/10\n",
            "391/391 [==============================] - 40s 102ms/step - loss: 0.8886 - accuracy: 0.6805\n",
            "Epoch 7/10\n",
            "391/391 [==============================] - 40s 102ms/step - loss: 0.8777 - accuracy: 0.6814\n",
            "Epoch 8/10\n",
            "391/391 [==============================] - 41s 104ms/step - loss: 0.8784 - accuracy: 0.6812\n",
            "Epoch 9/10\n",
            "391/391 [==============================] - 40s 102ms/step - loss: 0.8650 - accuracy: 0.6895\n",
            "Epoch 10/10\n",
            "391/391 [==============================] - 40s 103ms/step - loss: 0.8637 - accuracy: 0.6878\n"
          ]
        }
      ]
    },
    {
      "cell_type": "code",
      "source": [
        "# evaluate\n",
        "new_test_loss,new_test_acc = new_model.evaluate(X_test, y_test)\n",
        "print(new_test_loss)\n",
        "print(new_test_acc)\n",
        "\n",
        "test_loss5,test_acc5 = model5.evaluate(X_test, y_test)\n",
        "print(test_loss5)\n",
        "print(test_acc5)\n",
        "\n",
        "test_loss6,test_acc6 = model6.evaluate(X_test, y_test)\n",
        "print(test_loss6)\n",
        "print(test_acc6)\n",
        "\n",
        "test_loss7,test_acc7 = model7.evaluate(X_test, y_test)\n",
        "print(test_loss7)\n",
        "print(test_acc7)"
      ],
      "metadata": {
        "colab": {
          "base_uri": "https://localhost:8080/"
        },
        "id": "Zn43wOLl6cuX",
        "outputId": "c10bb6f6-4910-4da5-eefb-d78c34a26049"
      },
      "execution_count": null,
      "outputs": [
        {
          "output_type": "stream",
          "name": "stdout",
          "text": [
            "313/313 [==============================] - 3s 8ms/step - loss: 0.8410 - accuracy: 0.7130\n",
            "0.8409765362739563\n",
            "0.7129999995231628\n",
            "313/313 [==============================] - 3s 8ms/step - loss: 0.8410 - accuracy: 0.7130\n",
            "0.8409765362739563\n",
            "0.7129999995231628\n",
            "313/313 [==============================] - 4s 12ms/step - loss: 0.8410 - accuracy: 0.7130\n",
            "0.8409765362739563\n",
            "0.7129999995231628\n",
            "313/313 [==============================] - 3s 8ms/step - loss: 0.8410 - accuracy: 0.7130\n",
            "0.8409765362739563\n",
            "0.7129999995231628\n"
          ]
        }
      ]
    },
    {
      "cell_type": "code",
      "source": [
        "# Visualization.\n",
        "import matplotlib.pyplot as plt\n",
        "new_acc = new_hist.history['accuracy']\n",
        "new_loss = new_hist.history['loss']\n",
        "new_epochs = range(1, len(new_acc)+1)\n",
        "\n",
        "acc5 = hist5.history['accuracy']\n",
        "loss5 = hist5.history['loss']\n",
        "epochs5 = range(1, len(acc5)+1)\n",
        "\n",
        "acc6 = hist6.history['accuracy']\n",
        "loss6 = hist6.history['loss']\n",
        "epochs6 = range(1, len(acc6)+1)\n",
        "\n",
        "acc7 = hist7.history['accuracy']\n",
        "loss7 = hist7.history['loss']\n",
        "epochs7 = range(1, len(acc7)+1)\n",
        "\n",
        "plt.plot(new_epochs, new_acc, label='sgd accuracy')\n",
        "plt.plot(epochs5, acc5, label='adam accuracy')\n",
        "plt.plot(epochs6, acc6, label='rmsprop accuracy')\n",
        "plt.plot(epochs7, acc7, label='nadam accuracy')\n",
        "plt.title('Accuracy')\n",
        "plt.legend()\n",
        "plt.figure()\n",
        "\n",
        "plt.plot(new_epochs, new_loss, label='sgd loss function')\n",
        "plt.plot(epochs5, loss5, label='adam loss function')\n",
        "plt.plot(epochs6, loss6, label='rmsprop loss function')\n",
        "plt.plot(epochs7, loss7, label='nadam loss function')\n",
        "plt.title('Loss function')\n",
        "plt.legend()\n",
        "plt.figure()"
      ],
      "metadata": {
        "colab": {
          "base_uri": "https://localhost:8080/",
          "height": 581
        },
        "id": "2D_3LkC86n_O",
        "outputId": "be409392-895c-4145-e27a-49f4060b3439"
      },
      "execution_count": null,
      "outputs": [
        {
          "output_type": "execute_result",
          "data": {
            "text/plain": [
              "<Figure size 432x288 with 0 Axes>"
            ]
          },
          "metadata": {},
          "execution_count": 25
        },
        {
          "output_type": "display_data",
          "data": {
            "text/plain": [
              "<Figure size 432x288 with 1 Axes>"
            ],
            "image/png": "[encoded data removed]"
          },
          "metadata": {
            "needs_background": "light"
          }
        },
        {
          "output_type": "display_data",
          "data": {
            "text/plain": [
              "<Figure size 432x288 with 1 Axes>"
            ],
            "image/png": "[encoded data removed]"
          },
          "metadata": {
            "needs_background": "light"
          }
        },
        {
          "output_type": "display_data",
          "data": {
            "text/plain": [
              "<Figure size 432x288 with 0 Axes>"
            ]
          },
          "metadata": {}
        }
      ]
    },
    {
      "cell_type": "markdown",
      "source": [
        "In these two graphs, we can see that, similar to the results of the previous task, the SGD optimizer has a stable increase in accuracy, and the Nadam optimizer has the highest accuracy, but their accuracy is not as high as that of the previous task, with the highest accuracy less than 70% and the lowest just over 55%.\n",
        "Moreover, when processing the CIFAR10 dataset , among the four optimizers, the SGD optimizer has the highest loss function, which reaches about 1.2, and the nadam has the lowest loss function, which is still about 0.9. The overall situation is not as good as the performance of the previous task."
      ],
      "metadata": {
        "id": "6Y8SG789BTrW"
      }
    }
  ]
}